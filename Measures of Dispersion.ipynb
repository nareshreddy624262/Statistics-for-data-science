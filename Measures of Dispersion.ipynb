{
 "cells": [
  {
   "cell_type": "markdown",
   "id": "4147354b",
   "metadata": {},
   "source": [
    "# Measures of Dispersion"
   ]
  },
  {
   "cell_type": "markdown",
   "id": "882435af",
   "metadata": {},
   "source": [
    "Measures of dispersion are statistical values that help in understanding how much the data in a dataset varies or is spread out from its central tendency. Dispersion indicates how much the values in a dataset deviate from the mean or median. In other words, it provides a measure of the diversity or variability of the dataset. The most common measures of dispersion are the range, variance, and standard deviation. This article aims to provide a comprehensive overview of the components of measures of dispersion."
   ]
  },
  {
   "cell_type": "markdown",
   "id": "11ba973c",
   "metadata": {},
   "source": [
    "Range: Range is the simplest measure of dispersion and it represents the difference between the highest and lowest value in a dataset. It provides a rough idea of how far the data spreads. To calculate the range, subtract the lowest value from the highest value. For instance, consider a dataset with values 5, 7, 10, 12, 15. The range of this dataset would be 15-5=10. However, the range does not account for the variability between the values in the dataset."
   ]
  },
  {
   "cell_type": "markdown",
   "id": "0d204392",
   "metadata": {},
   "source": [
    "#  Range = largest_value - smallest value"
   ]
  },
  {
   "cell_type": "code",
   "execution_count": 18,
   "id": "577faadf",
   "metadata": {},
   "outputs": [],
   "source": [
    "import numpy as np\n",
    "import pandas as pd\n",
    "import statistics"
   ]
  },
  {
   "cell_type": "code",
   "execution_count": 3,
   "id": "8dc76127",
   "metadata": {},
   "outputs": [],
   "source": [
    "d = [1,2,3,4,5,6,7,8,9]"
   ]
  },
  {
   "cell_type": "code",
   "execution_count": 4,
   "id": "3fd9d305",
   "metadata": {},
   "outputs": [],
   "source": [
    "smallest_value = min(d)"
   ]
  },
  {
   "cell_type": "code",
   "execution_count": 5,
   "id": "9f54862c",
   "metadata": {},
   "outputs": [
    {
     "data": {
      "text/plain": [
       "1"
      ]
     },
     "execution_count": 5,
     "metadata": {},
     "output_type": "execute_result"
    }
   ],
   "source": [
    "smallest_value"
   ]
  },
  {
   "cell_type": "code",
   "execution_count": 6,
   "id": "74f5cb53",
   "metadata": {},
   "outputs": [],
   "source": [
    "largest_value = max(d)"
   ]
  },
  {
   "cell_type": "code",
   "execution_count": 7,
   "id": "6614ef96",
   "metadata": {},
   "outputs": [
    {
     "data": {
      "text/plain": [
       "9"
      ]
     },
     "execution_count": 7,
     "metadata": {},
     "output_type": "execute_result"
    }
   ],
   "source": [
    "largest_value"
   ]
  },
  {
   "cell_type": "code",
   "execution_count": 8,
   "id": "ceb5359b",
   "metadata": {},
   "outputs": [],
   "source": [
    "range_of_d = largest_value - smallest_value"
   ]
  },
  {
   "cell_type": "code",
   "execution_count": 9,
   "id": "29a37b97",
   "metadata": {},
   "outputs": [
    {
     "data": {
      "text/plain": [
       "8"
      ]
     },
     "execution_count": 9,
     "metadata": {},
     "output_type": "execute_result"
    }
   ],
   "source": [
    "range_of_d"
   ]
  },
  {
   "cell_type": "code",
   "execution_count": 10,
   "id": "be566837",
   "metadata": {},
   "outputs": [],
   "source": [
    "data = pd.read_csv(\"Students_marks.csv\")"
   ]
  },
  {
   "cell_type": "code",
   "execution_count": 11,
   "id": "d11f1ed7",
   "metadata": {},
   "outputs": [
    {
     "data": {
      "text/html": [
       "<div>\n",
       "<style scoped>\n",
       "    .dataframe tbody tr th:only-of-type {\n",
       "        vertical-align: middle;\n",
       "    }\n",
       "\n",
       "    .dataframe tbody tr th {\n",
       "        vertical-align: top;\n",
       "    }\n",
       "\n",
       "    .dataframe thead th {\n",
       "        text-align: right;\n",
       "    }\n",
       "</style>\n",
       "<table border=\"1\" class=\"dataframe\">\n",
       "  <thead>\n",
       "    <tr style=\"text-align: right;\">\n",
       "      <th></th>\n",
       "      <th>Roll No.</th>\n",
       "      <th>Name</th>\n",
       "      <th>Gender</th>\n",
       "      <th>Data Structure</th>\n",
       "      <th>Mathematics</th>\n",
       "      <th>Operating System</th>\n",
       "      <th>Average marks</th>\n",
       "      <th>Ranking</th>\n",
       "    </tr>\n",
       "  </thead>\n",
       "  <tbody>\n",
       "    <tr>\n",
       "      <th>0</th>\n",
       "      <td>1</td>\n",
       "      <td>Avneet</td>\n",
       "      <td>F</td>\n",
       "      <td>25</td>\n",
       "      <td>19</td>\n",
       "      <td>17</td>\n",
       "      <td>20.33</td>\n",
       "      <td>Good</td>\n",
       "    </tr>\n",
       "    <tr>\n",
       "      <th>1</th>\n",
       "      <td>2</td>\n",
       "      <td>Jay</td>\n",
       "      <td>M</td>\n",
       "      <td>23</td>\n",
       "      <td>21</td>\n",
       "      <td>14</td>\n",
       "      <td>19.33</td>\n",
       "      <td>Okay</td>\n",
       "    </tr>\n",
       "    <tr>\n",
       "      <th>2</th>\n",
       "      <td>3</td>\n",
       "      <td>Sadaf</td>\n",
       "      <td>F</td>\n",
       "      <td>28</td>\n",
       "      <td>23</td>\n",
       "      <td>21</td>\n",
       "      <td>24.00</td>\n",
       "      <td>Good</td>\n",
       "    </tr>\n",
       "    <tr>\n",
       "      <th>3</th>\n",
       "      <td>4</td>\n",
       "      <td>Prakash</td>\n",
       "      <td>M</td>\n",
       "      <td>21</td>\n",
       "      <td>27</td>\n",
       "      <td>28</td>\n",
       "      <td>25.33</td>\n",
       "      <td>Very Good</td>\n",
       "    </tr>\n",
       "    <tr>\n",
       "      <th>4</th>\n",
       "      <td>5</td>\n",
       "      <td>Sarita</td>\n",
       "      <td>F</td>\n",
       "      <td>23</td>\n",
       "      <td>22</td>\n",
       "      <td>9</td>\n",
       "      <td>18.00</td>\n",
       "      <td>Okay</td>\n",
       "    </tr>\n",
       "    <tr>\n",
       "      <th>5</th>\n",
       "      <td>6</td>\n",
       "      <td>Vasudha</td>\n",
       "      <td>F</td>\n",
       "      <td>190</td>\n",
       "      <td>30</td>\n",
       "      <td>28</td>\n",
       "      <td>82.66</td>\n",
       "      <td>Very Good</td>\n",
       "    </tr>\n",
       "    <tr>\n",
       "      <th>6</th>\n",
       "      <td>7</td>\n",
       "      <td>Ankur</td>\n",
       "      <td>M</td>\n",
       "      <td>24</td>\n",
       "      <td>24</td>\n",
       "      <td>22</td>\n",
       "      <td>23.33</td>\n",
       "      <td>Good</td>\n",
       "    </tr>\n",
       "    <tr>\n",
       "      <th>7</th>\n",
       "      <td>8</td>\n",
       "      <td>Laksh</td>\n",
       "      <td>M</td>\n",
       "      <td>26</td>\n",
       "      <td>25</td>\n",
       "      <td>27</td>\n",
       "      <td>26.00</td>\n",
       "      <td>Very Good</td>\n",
       "    </tr>\n",
       "    <tr>\n",
       "      <th>8</th>\n",
       "      <td>9</td>\n",
       "      <td>Aman</td>\n",
       "      <td>M</td>\n",
       "      <td>23</td>\n",
       "      <td>18</td>\n",
       "      <td>25</td>\n",
       "      <td>22.00</td>\n",
       "      <td>Good</td>\n",
       "    </tr>\n",
       "    <tr>\n",
       "      <th>9</th>\n",
       "      <td>10</td>\n",
       "      <td>Rajat</td>\n",
       "      <td>M</td>\n",
       "      <td>24</td>\n",
       "      <td>22</td>\n",
       "      <td>15</td>\n",
       "      <td>20.33</td>\n",
       "      <td>Good</td>\n",
       "    </tr>\n",
       "  </tbody>\n",
       "</table>\n",
       "</div>"
      ],
      "text/plain": [
       "   Roll No.     Name Gender  Data Structure  Mathematics  Operating System  \\\n",
       "0         1  Avneet       F              25           19                17   \n",
       "1         2      Jay      M              23           21                14   \n",
       "2         3   Sadaf       F              28           23                21   \n",
       "3         4  Prakash      M              21           27                28   \n",
       "4         5   Sarita      F              23           22                 9   \n",
       "5         6  Vasudha      F             190           30                28   \n",
       "6         7    Ankur      M              24           24                22   \n",
       "7         8    Laksh      M              26           25                27   \n",
       "8         9     Aman      M              23           18                25   \n",
       "9        10    Rajat      M              24           22                15   \n",
       "\n",
       "   Average marks    Ranking  \n",
       "0          20.33       Good  \n",
       "1          19.33       Okay  \n",
       "2          24.00       Good  \n",
       "3          25.33  Very Good  \n",
       "4          18.00       Okay  \n",
       "5          82.66  Very Good  \n",
       "6          23.33       Good  \n",
       "7          26.00  Very Good  \n",
       "8          22.00       Good  \n",
       "9          20.33       Good  "
      ]
     },
     "execution_count": 11,
     "metadata": {},
     "output_type": "execute_result"
    }
   ],
   "source": [
    "data"
   ]
  },
  {
   "cell_type": "code",
   "execution_count": 13,
   "id": "0edbca23",
   "metadata": {},
   "outputs": [
    {
     "data": {
      "text/plain": [
       "12"
      ]
     },
     "execution_count": 13,
     "metadata": {},
     "output_type": "execute_result"
    }
   ],
   "source": [
    "data[\"Mathematics\"].max() - data[\"Mathematics\"].min()"
   ]
  },
  {
   "cell_type": "markdown",
   "id": "8454025e",
   "metadata": {},
   "source": [
    "# variance"
   ]
  },
  {
   "cell_type": "markdown",
   "id": "3866fa96",
   "metadata": {},
   "source": [
    "Variance: The variance is the average of the squared deviation of each data point from the mean. It measures how far the data points are from the mean. Variance is calculated by squaring the difference between each data point and the mean, adding all of these squared differences, and then dividing the sum by the total number of data points in the dataset. The formula for variance is:"
   ]
  },
  {
   "cell_type": "code",
   "execution_count": 14,
   "id": "c5e62cc5",
   "metadata": {},
   "outputs": [
    {
     "data": {
      "text/html": [
       "<div>\n",
       "<style scoped>\n",
       "    .dataframe tbody tr th:only-of-type {\n",
       "        vertical-align: middle;\n",
       "    }\n",
       "\n",
       "    .dataframe tbody tr th {\n",
       "        vertical-align: top;\n",
       "    }\n",
       "\n",
       "    .dataframe thead th {\n",
       "        text-align: right;\n",
       "    }\n",
       "</style>\n",
       "<table border=\"1\" class=\"dataframe\">\n",
       "  <thead>\n",
       "    <tr style=\"text-align: right;\">\n",
       "      <th></th>\n",
       "      <th>Roll No.</th>\n",
       "      <th>Name</th>\n",
       "      <th>Gender</th>\n",
       "      <th>Data Structure</th>\n",
       "      <th>Mathematics</th>\n",
       "      <th>Operating System</th>\n",
       "      <th>Average marks</th>\n",
       "      <th>Ranking</th>\n",
       "    </tr>\n",
       "  </thead>\n",
       "  <tbody>\n",
       "    <tr>\n",
       "      <th>0</th>\n",
       "      <td>1</td>\n",
       "      <td>Avneet</td>\n",
       "      <td>F</td>\n",
       "      <td>25</td>\n",
       "      <td>19</td>\n",
       "      <td>17</td>\n",
       "      <td>20.33</td>\n",
       "      <td>Good</td>\n",
       "    </tr>\n",
       "    <tr>\n",
       "      <th>1</th>\n",
       "      <td>2</td>\n",
       "      <td>Jay</td>\n",
       "      <td>M</td>\n",
       "      <td>23</td>\n",
       "      <td>21</td>\n",
       "      <td>14</td>\n",
       "      <td>19.33</td>\n",
       "      <td>Okay</td>\n",
       "    </tr>\n",
       "    <tr>\n",
       "      <th>2</th>\n",
       "      <td>3</td>\n",
       "      <td>Sadaf</td>\n",
       "      <td>F</td>\n",
       "      <td>28</td>\n",
       "      <td>23</td>\n",
       "      <td>21</td>\n",
       "      <td>24.00</td>\n",
       "      <td>Good</td>\n",
       "    </tr>\n",
       "    <tr>\n",
       "      <th>3</th>\n",
       "      <td>4</td>\n",
       "      <td>Prakash</td>\n",
       "      <td>M</td>\n",
       "      <td>21</td>\n",
       "      <td>27</td>\n",
       "      <td>28</td>\n",
       "      <td>25.33</td>\n",
       "      <td>Very Good</td>\n",
       "    </tr>\n",
       "    <tr>\n",
       "      <th>4</th>\n",
       "      <td>5</td>\n",
       "      <td>Sarita</td>\n",
       "      <td>F</td>\n",
       "      <td>23</td>\n",
       "      <td>22</td>\n",
       "      <td>9</td>\n",
       "      <td>18.00</td>\n",
       "      <td>Okay</td>\n",
       "    </tr>\n",
       "    <tr>\n",
       "      <th>5</th>\n",
       "      <td>6</td>\n",
       "      <td>Vasudha</td>\n",
       "      <td>F</td>\n",
       "      <td>190</td>\n",
       "      <td>30</td>\n",
       "      <td>28</td>\n",
       "      <td>82.66</td>\n",
       "      <td>Very Good</td>\n",
       "    </tr>\n",
       "    <tr>\n",
       "      <th>6</th>\n",
       "      <td>7</td>\n",
       "      <td>Ankur</td>\n",
       "      <td>M</td>\n",
       "      <td>24</td>\n",
       "      <td>24</td>\n",
       "      <td>22</td>\n",
       "      <td>23.33</td>\n",
       "      <td>Good</td>\n",
       "    </tr>\n",
       "    <tr>\n",
       "      <th>7</th>\n",
       "      <td>8</td>\n",
       "      <td>Laksh</td>\n",
       "      <td>M</td>\n",
       "      <td>26</td>\n",
       "      <td>25</td>\n",
       "      <td>27</td>\n",
       "      <td>26.00</td>\n",
       "      <td>Very Good</td>\n",
       "    </tr>\n",
       "    <tr>\n",
       "      <th>8</th>\n",
       "      <td>9</td>\n",
       "      <td>Aman</td>\n",
       "      <td>M</td>\n",
       "      <td>23</td>\n",
       "      <td>18</td>\n",
       "      <td>25</td>\n",
       "      <td>22.00</td>\n",
       "      <td>Good</td>\n",
       "    </tr>\n",
       "    <tr>\n",
       "      <th>9</th>\n",
       "      <td>10</td>\n",
       "      <td>Rajat</td>\n",
       "      <td>M</td>\n",
       "      <td>24</td>\n",
       "      <td>22</td>\n",
       "      <td>15</td>\n",
       "      <td>20.33</td>\n",
       "      <td>Good</td>\n",
       "    </tr>\n",
       "  </tbody>\n",
       "</table>\n",
       "</div>"
      ],
      "text/plain": [
       "   Roll No.     Name Gender  Data Structure  Mathematics  Operating System  \\\n",
       "0         1  Avneet       F              25           19                17   \n",
       "1         2      Jay      M              23           21                14   \n",
       "2         3   Sadaf       F              28           23                21   \n",
       "3         4  Prakash      M              21           27                28   \n",
       "4         5   Sarita      F              23           22                 9   \n",
       "5         6  Vasudha      F             190           30                28   \n",
       "6         7    Ankur      M              24           24                22   \n",
       "7         8    Laksh      M              26           25                27   \n",
       "8         9     Aman      M              23           18                25   \n",
       "9        10    Rajat      M              24           22                15   \n",
       "\n",
       "   Average marks    Ranking  \n",
       "0          20.33       Good  \n",
       "1          19.33       Okay  \n",
       "2          24.00       Good  \n",
       "3          25.33  Very Good  \n",
       "4          18.00       Okay  \n",
       "5          82.66  Very Good  \n",
       "6          23.33       Good  \n",
       "7          26.00  Very Good  \n",
       "8          22.00       Good  \n",
       "9          20.33       Good  "
      ]
     },
     "execution_count": 14,
     "metadata": {},
     "output_type": "execute_result"
    }
   ],
   "source": [
    "data"
   ]
  },
  {
   "cell_type": "code",
   "execution_count": 19,
   "id": "04329d0d",
   "metadata": {},
   "outputs": [
    {
     "data": {
      "text/plain": [
       "43.82222222222222"
      ]
     },
     "execution_count": 19,
     "metadata": {},
     "output_type": "execute_result"
    }
   ],
   "source": [
    "statistics.variance(data[\"Operating System\"])"
   ]
  },
  {
   "cell_type": "code",
   "execution_count": 20,
   "id": "77f83d49",
   "metadata": {},
   "outputs": [
    {
     "data": {
      "text/plain": [
       "12.988888888888889"
      ]
     },
     "execution_count": 20,
     "metadata": {},
     "output_type": "execute_result"
    }
   ],
   "source": [
    "statistics.variance(data[\"Mathematics\"])"
   ]
  },
  {
   "cell_type": "markdown",
   "id": "66b4cdbf",
   "metadata": {},
   "source": [
    "# Standard Deviation:"
   ]
  },
  {
   "cell_type": "markdown",
   "id": "ee81b627",
   "metadata": {},
   "source": [
    " The standard deviation is the square root of the variance. It is a widely used measure of dispersion as it is easy to interpret and has desirable mathematical properties. It indicates how much the data points deviate from the mean in terms of standard deviations. A small standard deviation indicates that the data points are tightly clustered around the mean, while a large standard deviation indicates that the data points are spread out from the mean.The formula for standard deviation is"
   ]
  },
  {
   "cell_type": "code",
   "execution_count": 21,
   "id": "f547f948",
   "metadata": {},
   "outputs": [
    {
     "data": {
      "text/html": [
       "<div>\n",
       "<style scoped>\n",
       "    .dataframe tbody tr th:only-of-type {\n",
       "        vertical-align: middle;\n",
       "    }\n",
       "\n",
       "    .dataframe tbody tr th {\n",
       "        vertical-align: top;\n",
       "    }\n",
       "\n",
       "    .dataframe thead th {\n",
       "        text-align: right;\n",
       "    }\n",
       "</style>\n",
       "<table border=\"1\" class=\"dataframe\">\n",
       "  <thead>\n",
       "    <tr style=\"text-align: right;\">\n",
       "      <th></th>\n",
       "      <th>Roll No.</th>\n",
       "      <th>Name</th>\n",
       "      <th>Gender</th>\n",
       "      <th>Data Structure</th>\n",
       "      <th>Mathematics</th>\n",
       "      <th>Operating System</th>\n",
       "      <th>Average marks</th>\n",
       "      <th>Ranking</th>\n",
       "    </tr>\n",
       "  </thead>\n",
       "  <tbody>\n",
       "    <tr>\n",
       "      <th>0</th>\n",
       "      <td>1</td>\n",
       "      <td>Avneet</td>\n",
       "      <td>F</td>\n",
       "      <td>25</td>\n",
       "      <td>19</td>\n",
       "      <td>17</td>\n",
       "      <td>20.33</td>\n",
       "      <td>Good</td>\n",
       "    </tr>\n",
       "    <tr>\n",
       "      <th>1</th>\n",
       "      <td>2</td>\n",
       "      <td>Jay</td>\n",
       "      <td>M</td>\n",
       "      <td>23</td>\n",
       "      <td>21</td>\n",
       "      <td>14</td>\n",
       "      <td>19.33</td>\n",
       "      <td>Okay</td>\n",
       "    </tr>\n",
       "    <tr>\n",
       "      <th>2</th>\n",
       "      <td>3</td>\n",
       "      <td>Sadaf</td>\n",
       "      <td>F</td>\n",
       "      <td>28</td>\n",
       "      <td>23</td>\n",
       "      <td>21</td>\n",
       "      <td>24.00</td>\n",
       "      <td>Good</td>\n",
       "    </tr>\n",
       "    <tr>\n",
       "      <th>3</th>\n",
       "      <td>4</td>\n",
       "      <td>Prakash</td>\n",
       "      <td>M</td>\n",
       "      <td>21</td>\n",
       "      <td>27</td>\n",
       "      <td>28</td>\n",
       "      <td>25.33</td>\n",
       "      <td>Very Good</td>\n",
       "    </tr>\n",
       "    <tr>\n",
       "      <th>4</th>\n",
       "      <td>5</td>\n",
       "      <td>Sarita</td>\n",
       "      <td>F</td>\n",
       "      <td>23</td>\n",
       "      <td>22</td>\n",
       "      <td>9</td>\n",
       "      <td>18.00</td>\n",
       "      <td>Okay</td>\n",
       "    </tr>\n",
       "    <tr>\n",
       "      <th>5</th>\n",
       "      <td>6</td>\n",
       "      <td>Vasudha</td>\n",
       "      <td>F</td>\n",
       "      <td>190</td>\n",
       "      <td>30</td>\n",
       "      <td>28</td>\n",
       "      <td>82.66</td>\n",
       "      <td>Very Good</td>\n",
       "    </tr>\n",
       "    <tr>\n",
       "      <th>6</th>\n",
       "      <td>7</td>\n",
       "      <td>Ankur</td>\n",
       "      <td>M</td>\n",
       "      <td>24</td>\n",
       "      <td>24</td>\n",
       "      <td>22</td>\n",
       "      <td>23.33</td>\n",
       "      <td>Good</td>\n",
       "    </tr>\n",
       "    <tr>\n",
       "      <th>7</th>\n",
       "      <td>8</td>\n",
       "      <td>Laksh</td>\n",
       "      <td>M</td>\n",
       "      <td>26</td>\n",
       "      <td>25</td>\n",
       "      <td>27</td>\n",
       "      <td>26.00</td>\n",
       "      <td>Very Good</td>\n",
       "    </tr>\n",
       "    <tr>\n",
       "      <th>8</th>\n",
       "      <td>9</td>\n",
       "      <td>Aman</td>\n",
       "      <td>M</td>\n",
       "      <td>23</td>\n",
       "      <td>18</td>\n",
       "      <td>25</td>\n",
       "      <td>22.00</td>\n",
       "      <td>Good</td>\n",
       "    </tr>\n",
       "    <tr>\n",
       "      <th>9</th>\n",
       "      <td>10</td>\n",
       "      <td>Rajat</td>\n",
       "      <td>M</td>\n",
       "      <td>24</td>\n",
       "      <td>22</td>\n",
       "      <td>15</td>\n",
       "      <td>20.33</td>\n",
       "      <td>Good</td>\n",
       "    </tr>\n",
       "  </tbody>\n",
       "</table>\n",
       "</div>"
      ],
      "text/plain": [
       "   Roll No.     Name Gender  Data Structure  Mathematics  Operating System  \\\n",
       "0         1  Avneet       F              25           19                17   \n",
       "1         2      Jay      M              23           21                14   \n",
       "2         3   Sadaf       F              28           23                21   \n",
       "3         4  Prakash      M              21           27                28   \n",
       "4         5   Sarita      F              23           22                 9   \n",
       "5         6  Vasudha      F             190           30                28   \n",
       "6         7    Ankur      M              24           24                22   \n",
       "7         8    Laksh      M              26           25                27   \n",
       "8         9     Aman      M              23           18                25   \n",
       "9        10    Rajat      M              24           22                15   \n",
       "\n",
       "   Average marks    Ranking  \n",
       "0          20.33       Good  \n",
       "1          19.33       Okay  \n",
       "2          24.00       Good  \n",
       "3          25.33  Very Good  \n",
       "4          18.00       Okay  \n",
       "5          82.66  Very Good  \n",
       "6          23.33       Good  \n",
       "7          26.00  Very Good  \n",
       "8          22.00       Good  \n",
       "9          20.33       Good  "
      ]
     },
     "execution_count": 21,
     "metadata": {},
     "output_type": "execute_result"
    }
   ],
   "source": [
    "data"
   ]
  },
  {
   "cell_type": "code",
   "execution_count": 23,
   "id": "989c1ce8",
   "metadata": {},
   "outputs": [
    {
     "data": {
      "text/plain": [
       "3.4190641994557516"
      ]
     },
     "execution_count": 23,
     "metadata": {},
     "output_type": "execute_result"
    }
   ],
   "source": [
    "statistics.pstdev(data[\"Mathematics\"])"
   ]
  },
  {
   "cell_type": "code",
   "execution_count": 24,
   "id": "2c4041d1",
   "metadata": {},
   "outputs": [
    {
     "data": {
      "text/plain": [
       "6.2801273872430325"
      ]
     },
     "execution_count": 24,
     "metadata": {},
     "output_type": "execute_result"
    }
   ],
   "source": [
    "statistics.pstdev(data[\"Operating System\"])"
   ]
  },
  {
   "cell_type": "markdown",
   "id": "cf0e6eed",
   "metadata": {},
   "source": [
    "# Coefficient of Variation: "
   ]
  },
  {
   "cell_type": "markdown",
   "id": "217b027c",
   "metadata": {},
   "source": [
    " The coefficient of variation is a measure of dispersion that expresses the standard deviation as a percentage of the mean. It is used to compare the variability of datasets with different means. The formula for coefficient of variation is: "
   ]
  },
  {
   "cell_type": "markdown",
   "id": "3f8df3ae",
   "metadata": {},
   "source": [
    "# Interquartile Range"
   ]
  },
  {
   "cell_type": "markdown",
   "id": "ced1b78d",
   "metadata": {},
   "source": [
    " Quantile:  A quantile determines how many values in a distribution are crossing a threshold, i.e., how many values are above and below a certain limit. \n",
    "\n",
    "Quartiles (Quarter), Quintile (Fifth part) and percentiles (Hundredth)  are some types of quantiles that we use.\n",
    "\n",
    "The interquartile range is a measure of dispersion that is based on the quartiles of the dataset. The quartiles divide the dataset into four equal parts, with each part representing 25% of the data. The interquartile range is the difference between the upper quartile (Q3) and the lower quartile (Q1). It represents the range of the middle 50% of the dataset, which is less affected by outliers than the range.\n",
    "\n",
    "If we divide a distribution into four equal portions, we will speak of four quartiles. The first quartile includes all values that are smaller than a quarter of all values. In a graphical representation, it corresponds to 25% of the total area of a distribution. The two lower quartiles comprise 50% of all distribution values. \n",
    "\n",
    "The Interquartile range is the distance between the 25th and 75th percentile, which is also the height of the box in a box plot. \n",
    "\n"
   ]
  },
  {
   "cell_type": "raw",
   "id": "fcee1cc4",
   "metadata": {},
   "source": [
    "To remove outliers using Boxplot:\n",
    "\n",
    "Q1 = quantile(0.25) / 25th quantile/percentile\n",
    "\n",
    "Q3 = quantile(0.75)/ 75th quantile/percentile\n",
    "\n",
    "IQR  =  Q3 – Q1\n",
    "\n",
    "Now we have to find upper bound and lower bound of boxplot \n",
    "\n",
    "Upper_Bound =  Q3 + (1.5 * IQR)\n",
    "\n",
    "Lower_Bound =  Q1 – (1.5 * IQR)\n",
    "\n",
    "To remove outlier data should be less than Upper_Bound and Greater than Lower_Bound\n",
    "\n",
    " "
   ]
  },
  {
   "cell_type": "code",
   "execution_count": 25,
   "id": "7c426b6d",
   "metadata": {},
   "outputs": [
    {
     "data": {
      "text/html": [
       "<div>\n",
       "<style scoped>\n",
       "    .dataframe tbody tr th:only-of-type {\n",
       "        vertical-align: middle;\n",
       "    }\n",
       "\n",
       "    .dataframe tbody tr th {\n",
       "        vertical-align: top;\n",
       "    }\n",
       "\n",
       "    .dataframe thead th {\n",
       "        text-align: right;\n",
       "    }\n",
       "</style>\n",
       "<table border=\"1\" class=\"dataframe\">\n",
       "  <thead>\n",
       "    <tr style=\"text-align: right;\">\n",
       "      <th></th>\n",
       "      <th>Roll No.</th>\n",
       "      <th>Name</th>\n",
       "      <th>Gender</th>\n",
       "      <th>Data Structure</th>\n",
       "      <th>Mathematics</th>\n",
       "      <th>Operating System</th>\n",
       "      <th>Average marks</th>\n",
       "      <th>Ranking</th>\n",
       "    </tr>\n",
       "  </thead>\n",
       "  <tbody>\n",
       "    <tr>\n",
       "      <th>0</th>\n",
       "      <td>1</td>\n",
       "      <td>Avneet</td>\n",
       "      <td>F</td>\n",
       "      <td>25</td>\n",
       "      <td>19</td>\n",
       "      <td>17</td>\n",
       "      <td>20.33</td>\n",
       "      <td>Good</td>\n",
       "    </tr>\n",
       "    <tr>\n",
       "      <th>1</th>\n",
       "      <td>2</td>\n",
       "      <td>Jay</td>\n",
       "      <td>M</td>\n",
       "      <td>23</td>\n",
       "      <td>21</td>\n",
       "      <td>14</td>\n",
       "      <td>19.33</td>\n",
       "      <td>Okay</td>\n",
       "    </tr>\n",
       "    <tr>\n",
       "      <th>2</th>\n",
       "      <td>3</td>\n",
       "      <td>Sadaf</td>\n",
       "      <td>F</td>\n",
       "      <td>28</td>\n",
       "      <td>23</td>\n",
       "      <td>21</td>\n",
       "      <td>24.00</td>\n",
       "      <td>Good</td>\n",
       "    </tr>\n",
       "    <tr>\n",
       "      <th>3</th>\n",
       "      <td>4</td>\n",
       "      <td>Prakash</td>\n",
       "      <td>M</td>\n",
       "      <td>21</td>\n",
       "      <td>27</td>\n",
       "      <td>28</td>\n",
       "      <td>25.33</td>\n",
       "      <td>Very Good</td>\n",
       "    </tr>\n",
       "    <tr>\n",
       "      <th>4</th>\n",
       "      <td>5</td>\n",
       "      <td>Sarita</td>\n",
       "      <td>F</td>\n",
       "      <td>23</td>\n",
       "      <td>22</td>\n",
       "      <td>9</td>\n",
       "      <td>18.00</td>\n",
       "      <td>Okay</td>\n",
       "    </tr>\n",
       "    <tr>\n",
       "      <th>5</th>\n",
       "      <td>6</td>\n",
       "      <td>Vasudha</td>\n",
       "      <td>F</td>\n",
       "      <td>190</td>\n",
       "      <td>30</td>\n",
       "      <td>28</td>\n",
       "      <td>82.66</td>\n",
       "      <td>Very Good</td>\n",
       "    </tr>\n",
       "    <tr>\n",
       "      <th>6</th>\n",
       "      <td>7</td>\n",
       "      <td>Ankur</td>\n",
       "      <td>M</td>\n",
       "      <td>24</td>\n",
       "      <td>24</td>\n",
       "      <td>22</td>\n",
       "      <td>23.33</td>\n",
       "      <td>Good</td>\n",
       "    </tr>\n",
       "    <tr>\n",
       "      <th>7</th>\n",
       "      <td>8</td>\n",
       "      <td>Laksh</td>\n",
       "      <td>M</td>\n",
       "      <td>26</td>\n",
       "      <td>25</td>\n",
       "      <td>27</td>\n",
       "      <td>26.00</td>\n",
       "      <td>Very Good</td>\n",
       "    </tr>\n",
       "    <tr>\n",
       "      <th>8</th>\n",
       "      <td>9</td>\n",
       "      <td>Aman</td>\n",
       "      <td>M</td>\n",
       "      <td>23</td>\n",
       "      <td>18</td>\n",
       "      <td>25</td>\n",
       "      <td>22.00</td>\n",
       "      <td>Good</td>\n",
       "    </tr>\n",
       "    <tr>\n",
       "      <th>9</th>\n",
       "      <td>10</td>\n",
       "      <td>Rajat</td>\n",
       "      <td>M</td>\n",
       "      <td>24</td>\n",
       "      <td>22</td>\n",
       "      <td>15</td>\n",
       "      <td>20.33</td>\n",
       "      <td>Good</td>\n",
       "    </tr>\n",
       "  </tbody>\n",
       "</table>\n",
       "</div>"
      ],
      "text/plain": [
       "   Roll No.     Name Gender  Data Structure  Mathematics  Operating System  \\\n",
       "0         1  Avneet       F              25           19                17   \n",
       "1         2      Jay      M              23           21                14   \n",
       "2         3   Sadaf       F              28           23                21   \n",
       "3         4  Prakash      M              21           27                28   \n",
       "4         5   Sarita      F              23           22                 9   \n",
       "5         6  Vasudha      F             190           30                28   \n",
       "6         7    Ankur      M              24           24                22   \n",
       "7         8    Laksh      M              26           25                27   \n",
       "8         9     Aman      M              23           18                25   \n",
       "9        10    Rajat      M              24           22                15   \n",
       "\n",
       "   Average marks    Ranking  \n",
       "0          20.33       Good  \n",
       "1          19.33       Okay  \n",
       "2          24.00       Good  \n",
       "3          25.33  Very Good  \n",
       "4          18.00       Okay  \n",
       "5          82.66  Very Good  \n",
       "6          23.33       Good  \n",
       "7          26.00  Very Good  \n",
       "8          22.00       Good  \n",
       "9          20.33       Good  "
      ]
     },
     "execution_count": 25,
     "metadata": {},
     "output_type": "execute_result"
    }
   ],
   "source": [
    "data"
   ]
  },
  {
   "cell_type": "code",
   "execution_count": 26,
   "id": "61cb81b6",
   "metadata": {},
   "outputs": [],
   "source": [
    "Q1 = data[\"Mathematics\"].quantile(0.25)"
   ]
  },
  {
   "cell_type": "code",
   "execution_count": 29,
   "id": "616a52cf",
   "metadata": {},
   "outputs": [
    {
     "data": {
      "text/plain": [
       "21.25"
      ]
     },
     "execution_count": 29,
     "metadata": {},
     "output_type": "execute_result"
    }
   ],
   "source": [
    "Q1"
   ]
  },
  {
   "cell_type": "code",
   "execution_count": 30,
   "id": "e04b23fa",
   "metadata": {},
   "outputs": [],
   "source": [
    "Q3 = data[\"Mathematics\"].quantile(0.75)"
   ]
  },
  {
   "cell_type": "code",
   "execution_count": 31,
   "id": "5a448e29",
   "metadata": {},
   "outputs": [
    {
     "data": {
      "text/plain": [
       "24.75"
      ]
     },
     "execution_count": 31,
     "metadata": {},
     "output_type": "execute_result"
    }
   ],
   "source": [
    "Q3"
   ]
  },
  {
   "cell_type": "code",
   "execution_count": 32,
   "id": "1f051915",
   "metadata": {},
   "outputs": [],
   "source": [
    "IQR = Q3 - Q1"
   ]
  },
  {
   "cell_type": "code",
   "execution_count": 33,
   "id": "ad35ffcf",
   "metadata": {},
   "outputs": [
    {
     "data": {
      "text/plain": [
       "3.5"
      ]
     },
     "execution_count": 33,
     "metadata": {},
     "output_type": "execute_result"
    }
   ],
   "source": [
    "IQR"
   ]
  },
  {
   "cell_type": "code",
   "execution_count": 34,
   "id": "58c74814",
   "metadata": {},
   "outputs": [],
   "source": [
    "upper_limit = Q3 + 1.5*IQR\n",
    "lower_limit = Q1 - 1.5*IQR"
   ]
  },
  {
   "cell_type": "code",
   "execution_count": 35,
   "id": "d1b23b3f",
   "metadata": {},
   "outputs": [
    {
     "data": {
      "text/plain": [
       "30.0"
      ]
     },
     "execution_count": 35,
     "metadata": {},
     "output_type": "execute_result"
    }
   ],
   "source": [
    "upper_limit"
   ]
  },
  {
   "cell_type": "code",
   "execution_count": 36,
   "id": "28c6eef3",
   "metadata": {},
   "outputs": [
    {
     "data": {
      "text/plain": [
       "16.0"
      ]
     },
     "execution_count": 36,
     "metadata": {},
     "output_type": "execute_result"
    }
   ],
   "source": [
    "lower_limit"
   ]
  },
  {
   "cell_type": "code",
   "execution_count": 43,
   "id": "798c60d7",
   "metadata": {
    "scrolled": true
   },
   "outputs": [
    {
     "data": {
      "text/html": [
       "<div>\n",
       "<style scoped>\n",
       "    .dataframe tbody tr th:only-of-type {\n",
       "        vertical-align: middle;\n",
       "    }\n",
       "\n",
       "    .dataframe tbody tr th {\n",
       "        vertical-align: top;\n",
       "    }\n",
       "\n",
       "    .dataframe thead th {\n",
       "        text-align: right;\n",
       "    }\n",
       "</style>\n",
       "<table border=\"1\" class=\"dataframe\">\n",
       "  <thead>\n",
       "    <tr style=\"text-align: right;\">\n",
       "      <th></th>\n",
       "      <th>Roll No.</th>\n",
       "      <th>Name</th>\n",
       "      <th>Gender</th>\n",
       "      <th>Data Structure</th>\n",
       "      <th>Mathematics</th>\n",
       "      <th>Operating System</th>\n",
       "      <th>Average marks</th>\n",
       "      <th>Ranking</th>\n",
       "    </tr>\n",
       "  </thead>\n",
       "  <tbody>\n",
       "    <tr>\n",
       "      <th>0</th>\n",
       "      <td>1</td>\n",
       "      <td>Avneet</td>\n",
       "      <td>F</td>\n",
       "      <td>25</td>\n",
       "      <td>19</td>\n",
       "      <td>17</td>\n",
       "      <td>20.33</td>\n",
       "      <td>Good</td>\n",
       "    </tr>\n",
       "    <tr>\n",
       "      <th>1</th>\n",
       "      <td>2</td>\n",
       "      <td>Jay</td>\n",
       "      <td>M</td>\n",
       "      <td>23</td>\n",
       "      <td>21</td>\n",
       "      <td>14</td>\n",
       "      <td>19.33</td>\n",
       "      <td>Okay</td>\n",
       "    </tr>\n",
       "    <tr>\n",
       "      <th>2</th>\n",
       "      <td>3</td>\n",
       "      <td>Sadaf</td>\n",
       "      <td>F</td>\n",
       "      <td>28</td>\n",
       "      <td>23</td>\n",
       "      <td>21</td>\n",
       "      <td>24.00</td>\n",
       "      <td>Good</td>\n",
       "    </tr>\n",
       "    <tr>\n",
       "      <th>3</th>\n",
       "      <td>4</td>\n",
       "      <td>Prakash</td>\n",
       "      <td>M</td>\n",
       "      <td>21</td>\n",
       "      <td>27</td>\n",
       "      <td>28</td>\n",
       "      <td>25.33</td>\n",
       "      <td>Very Good</td>\n",
       "    </tr>\n",
       "    <tr>\n",
       "      <th>4</th>\n",
       "      <td>5</td>\n",
       "      <td>Sarita</td>\n",
       "      <td>F</td>\n",
       "      <td>23</td>\n",
       "      <td>22</td>\n",
       "      <td>9</td>\n",
       "      <td>18.00</td>\n",
       "      <td>Okay</td>\n",
       "    </tr>\n",
       "    <tr>\n",
       "      <th>6</th>\n",
       "      <td>7</td>\n",
       "      <td>Ankur</td>\n",
       "      <td>M</td>\n",
       "      <td>24</td>\n",
       "      <td>24</td>\n",
       "      <td>22</td>\n",
       "      <td>23.33</td>\n",
       "      <td>Good</td>\n",
       "    </tr>\n",
       "    <tr>\n",
       "      <th>7</th>\n",
       "      <td>8</td>\n",
       "      <td>Laksh</td>\n",
       "      <td>M</td>\n",
       "      <td>26</td>\n",
       "      <td>25</td>\n",
       "      <td>27</td>\n",
       "      <td>26.00</td>\n",
       "      <td>Very Good</td>\n",
       "    </tr>\n",
       "    <tr>\n",
       "      <th>8</th>\n",
       "      <td>9</td>\n",
       "      <td>Aman</td>\n",
       "      <td>M</td>\n",
       "      <td>23</td>\n",
       "      <td>18</td>\n",
       "      <td>25</td>\n",
       "      <td>22.00</td>\n",
       "      <td>Good</td>\n",
       "    </tr>\n",
       "    <tr>\n",
       "      <th>9</th>\n",
       "      <td>10</td>\n",
       "      <td>Rajat</td>\n",
       "      <td>M</td>\n",
       "      <td>24</td>\n",
       "      <td>22</td>\n",
       "      <td>15</td>\n",
       "      <td>20.33</td>\n",
       "      <td>Good</td>\n",
       "    </tr>\n",
       "  </tbody>\n",
       "</table>\n",
       "</div>"
      ],
      "text/plain": [
       "   Roll No.     Name Gender  Data Structure  Mathematics  Operating System  \\\n",
       "0         1  Avneet       F              25           19                17   \n",
       "1         2      Jay      M              23           21                14   \n",
       "2         3   Sadaf       F              28           23                21   \n",
       "3         4  Prakash      M              21           27                28   \n",
       "4         5   Sarita      F              23           22                 9   \n",
       "6         7    Ankur      M              24           24                22   \n",
       "7         8    Laksh      M              26           25                27   \n",
       "8         9     Aman      M              23           18                25   \n",
       "9        10    Rajat      M              24           22                15   \n",
       "\n",
       "   Average marks    Ranking  \n",
       "0          20.33       Good  \n",
       "1          19.33       Okay  \n",
       "2          24.00       Good  \n",
       "3          25.33  Very Good  \n",
       "4          18.00       Okay  \n",
       "6          23.33       Good  \n",
       "7          26.00  Very Good  \n",
       "8          22.00       Good  \n",
       "9          20.33       Good  "
      ]
     },
     "execution_count": 43,
     "metadata": {},
     "output_type": "execute_result"
    }
   ],
   "source": [
    "data[(data[\"Mathematics\"]<upper_limit) & (data[\"Mathematics\"]>lower_limit)]"
   ]
  },
  {
   "cell_type": "code",
   "execution_count": 44,
   "id": "97272b45",
   "metadata": {},
   "outputs": [
    {
     "data": {
      "text/html": [
       "<div>\n",
       "<style scoped>\n",
       "    .dataframe tbody tr th:only-of-type {\n",
       "        vertical-align: middle;\n",
       "    }\n",
       "\n",
       "    .dataframe tbody tr th {\n",
       "        vertical-align: top;\n",
       "    }\n",
       "\n",
       "    .dataframe thead th {\n",
       "        text-align: right;\n",
       "    }\n",
       "</style>\n",
       "<table border=\"1\" class=\"dataframe\">\n",
       "  <thead>\n",
       "    <tr style=\"text-align: right;\">\n",
       "      <th></th>\n",
       "      <th>Roll No.</th>\n",
       "      <th>Name</th>\n",
       "      <th>Gender</th>\n",
       "      <th>Data Structure</th>\n",
       "      <th>Mathematics</th>\n",
       "      <th>Operating System</th>\n",
       "      <th>Average marks</th>\n",
       "      <th>Ranking</th>\n",
       "    </tr>\n",
       "  </thead>\n",
       "  <tbody>\n",
       "  </tbody>\n",
       "</table>\n",
       "</div>"
      ],
      "text/plain": [
       "Empty DataFrame\n",
       "Columns: [Roll No., Name, Gender, Data Structure, Mathematics, Operating System, Average marks, Ranking]\n",
       "Index: []"
      ]
     },
     "execution_count": 44,
     "metadata": {},
     "output_type": "execute_result"
    }
   ],
   "source": [
    "data[(data[\"Mathematics\"] > upper_limit) & (data[\"Mathematics\"] <lower_limit) ]"
   ]
  },
  {
   "cell_type": "code",
   "execution_count": null,
   "id": "111ed16f",
   "metadata": {},
   "outputs": [],
   "source": []
  }
 ],
 "metadata": {
  "kernelspec": {
   "display_name": "Python 3 (ipykernel)",
   "language": "python",
   "name": "python3"
  },
  "language_info": {
   "codemirror_mode": {
    "name": "ipython",
    "version": 3
   },
   "file_extension": ".py",
   "mimetype": "text/x-python",
   "name": "python",
   "nbconvert_exporter": "python",
   "pygments_lexer": "ipython3",
   "version": "3.11.5"
  }
 },
 "nbformat": 4,
 "nbformat_minor": 5
}
