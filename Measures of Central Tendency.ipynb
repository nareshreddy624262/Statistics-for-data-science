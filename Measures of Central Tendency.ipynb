{
 "cells": [
  {
   "cell_type": "markdown",
   "id": "3ef9df5b",
   "metadata": {},
   "source": [
    "# Measures of Central Tendency"
   ]
  },
  {
   "cell_type": "markdown",
   "id": "d2345606",
   "metadata": {},
   "source": [
    "An essential statistical concept is the “measure of central tendency“. This measure is an important way to summarize the dataset with one representative value. This measure provides a rough picture of where data points are centered. The commonly used measures of central tendency are:"
   ]
  },
  {
   "cell_type": "raw",
   "id": "4529cf03",
   "metadata": {},
   "source": [
    "Mean\n",
    "Median\n",
    "Mode"
   ]
  },
  {
   "cell_type": "markdown",
   "id": "f73af3fc",
   "metadata": {},
   "source": [
    "# mean"
   ]
  },
  {
   "cell_type": "markdown",
   "id": "1129c2bb",
   "metadata": {},
   "source": [
    " “Average” value is termed as the mean of the dataset. It is very easy to calculate the mean. \n"
   ]
  },
  {
   "cell_type": "code",
   "execution_count": 40,
   "id": "60a079ea",
   "metadata": {},
   "outputs": [],
   "source": [
    "import numpy as np\n",
    "import pandas as pd\n",
    "import statistics"
   ]
  },
  {
   "cell_type": "code",
   "execution_count": 3,
   "id": "bd29939c",
   "metadata": {},
   "outputs": [],
   "source": [
    "data = pd.read_csv(\"Students_marks.csv\")"
   ]
  },
  {
   "cell_type": "code",
   "execution_count": 4,
   "id": "1393f787",
   "metadata": {},
   "outputs": [
    {
     "data": {
      "text/html": [
       "<div>\n",
       "<style scoped>\n",
       "    .dataframe tbody tr th:only-of-type {\n",
       "        vertical-align: middle;\n",
       "    }\n",
       "\n",
       "    .dataframe tbody tr th {\n",
       "        vertical-align: top;\n",
       "    }\n",
       "\n",
       "    .dataframe thead th {\n",
       "        text-align: right;\n",
       "    }\n",
       "</style>\n",
       "<table border=\"1\" class=\"dataframe\">\n",
       "  <thead>\n",
       "    <tr style=\"text-align: right;\">\n",
       "      <th></th>\n",
       "      <th>Roll No.</th>\n",
       "      <th>Name</th>\n",
       "      <th>Gender</th>\n",
       "      <th>Data Structure</th>\n",
       "      <th>Mathematics</th>\n",
       "      <th>Operating System</th>\n",
       "      <th>Average marks</th>\n",
       "      <th>Ranking</th>\n",
       "    </tr>\n",
       "  </thead>\n",
       "  <tbody>\n",
       "    <tr>\n",
       "      <th>0</th>\n",
       "      <td>1</td>\n",
       "      <td>Avneet</td>\n",
       "      <td>F</td>\n",
       "      <td>25</td>\n",
       "      <td>19</td>\n",
       "      <td>17</td>\n",
       "      <td>20.33</td>\n",
       "      <td>Good</td>\n",
       "    </tr>\n",
       "    <tr>\n",
       "      <th>1</th>\n",
       "      <td>2</td>\n",
       "      <td>Jay</td>\n",
       "      <td>M</td>\n",
       "      <td>23</td>\n",
       "      <td>21</td>\n",
       "      <td>14</td>\n",
       "      <td>19.33</td>\n",
       "      <td>Okay</td>\n",
       "    </tr>\n",
       "    <tr>\n",
       "      <th>2</th>\n",
       "      <td>3</td>\n",
       "      <td>Sadaf</td>\n",
       "      <td>F</td>\n",
       "      <td>28</td>\n",
       "      <td>23</td>\n",
       "      <td>21</td>\n",
       "      <td>24.00</td>\n",
       "      <td>Good</td>\n",
       "    </tr>\n",
       "    <tr>\n",
       "      <th>3</th>\n",
       "      <td>4</td>\n",
       "      <td>Prakash</td>\n",
       "      <td>M</td>\n",
       "      <td>21</td>\n",
       "      <td>27</td>\n",
       "      <td>28</td>\n",
       "      <td>25.33</td>\n",
       "      <td>Very Good</td>\n",
       "    </tr>\n",
       "    <tr>\n",
       "      <th>4</th>\n",
       "      <td>5</td>\n",
       "      <td>Sarita</td>\n",
       "      <td>F</td>\n",
       "      <td>23</td>\n",
       "      <td>22</td>\n",
       "      <td>9</td>\n",
       "      <td>18.00</td>\n",
       "      <td>Okay</td>\n",
       "    </tr>\n",
       "    <tr>\n",
       "      <th>5</th>\n",
       "      <td>6</td>\n",
       "      <td>Vasudha</td>\n",
       "      <td>F</td>\n",
       "      <td>190</td>\n",
       "      <td>30</td>\n",
       "      <td>28</td>\n",
       "      <td>82.66</td>\n",
       "      <td>Very Good</td>\n",
       "    </tr>\n",
       "    <tr>\n",
       "      <th>6</th>\n",
       "      <td>7</td>\n",
       "      <td>Ankur</td>\n",
       "      <td>M</td>\n",
       "      <td>24</td>\n",
       "      <td>24</td>\n",
       "      <td>22</td>\n",
       "      <td>23.33</td>\n",
       "      <td>Good</td>\n",
       "    </tr>\n",
       "    <tr>\n",
       "      <th>7</th>\n",
       "      <td>8</td>\n",
       "      <td>Laksh</td>\n",
       "      <td>M</td>\n",
       "      <td>26</td>\n",
       "      <td>25</td>\n",
       "      <td>27</td>\n",
       "      <td>26.00</td>\n",
       "      <td>Very Good</td>\n",
       "    </tr>\n",
       "    <tr>\n",
       "      <th>8</th>\n",
       "      <td>9</td>\n",
       "      <td>Aman</td>\n",
       "      <td>M</td>\n",
       "      <td>23</td>\n",
       "      <td>18</td>\n",
       "      <td>25</td>\n",
       "      <td>22.00</td>\n",
       "      <td>Good</td>\n",
       "    </tr>\n",
       "    <tr>\n",
       "      <th>9</th>\n",
       "      <td>10</td>\n",
       "      <td>Rajat</td>\n",
       "      <td>M</td>\n",
       "      <td>24</td>\n",
       "      <td>22</td>\n",
       "      <td>15</td>\n",
       "      <td>20.33</td>\n",
       "      <td>Good</td>\n",
       "    </tr>\n",
       "  </tbody>\n",
       "</table>\n",
       "</div>"
      ],
      "text/plain": [
       "   Roll No.     Name Gender  Data Structure  Mathematics  Operating System  \\\n",
       "0         1  Avneet       F              25           19                17   \n",
       "1         2      Jay      M              23           21                14   \n",
       "2         3   Sadaf       F              28           23                21   \n",
       "3         4  Prakash      M              21           27                28   \n",
       "4         5   Sarita      F              23           22                 9   \n",
       "5         6  Vasudha      F             190           30                28   \n",
       "6         7    Ankur      M              24           24                22   \n",
       "7         8    Laksh      M              26           25                27   \n",
       "8         9     Aman      M              23           18                25   \n",
       "9        10    Rajat      M              24           22                15   \n",
       "\n",
       "   Average marks    Ranking  \n",
       "0          20.33       Good  \n",
       "1          19.33       Okay  \n",
       "2          24.00       Good  \n",
       "3          25.33  Very Good  \n",
       "4          18.00       Okay  \n",
       "5          82.66  Very Good  \n",
       "6          23.33       Good  \n",
       "7          26.00  Very Good  \n",
       "8          22.00       Good  \n",
       "9          20.33       Good  "
      ]
     },
     "execution_count": 4,
     "metadata": {},
     "output_type": "execute_result"
    }
   ],
   "source": [
    "data"
   ]
  },
  {
   "cell_type": "markdown",
   "id": "62923b4f",
   "metadata": {},
   "source": [
    "# mean = sum of the values by / number of values "
   ]
  },
  {
   "cell_type": "code",
   "execution_count": 5,
   "id": "efc17667",
   "metadata": {},
   "outputs": [],
   "source": [
    "age = [23,56,45,34,78,56,34,56,35,45,67]"
   ]
  },
  {
   "cell_type": "code",
   "execution_count": 12,
   "id": "0db864b0",
   "metadata": {},
   "outputs": [],
   "source": [
    "sum_of_age = 23+56+45+34+78+56+34+56+35+45+67"
   ]
  },
  {
   "cell_type": "code",
   "execution_count": 13,
   "id": "854e4cba",
   "metadata": {},
   "outputs": [
    {
     "data": {
      "text/plain": [
       "529"
      ]
     },
     "execution_count": 13,
     "metadata": {},
     "output_type": "execute_result"
    }
   ],
   "source": [
    "sum_of_age"
   ]
  },
  {
   "cell_type": "code",
   "execution_count": 14,
   "id": "d6e3344f",
   "metadata": {},
   "outputs": [],
   "source": [
    "number_of_values_age = len(age)"
   ]
  },
  {
   "cell_type": "code",
   "execution_count": 16,
   "id": "7df1badc",
   "metadata": {},
   "outputs": [
    {
     "data": {
      "text/plain": [
       "11"
      ]
     },
     "execution_count": 16,
     "metadata": {},
     "output_type": "execute_result"
    }
   ],
   "source": [
    "number_of_values_age"
   ]
  },
  {
   "cell_type": "code",
   "execution_count": 21,
   "id": "cf4df9d5",
   "metadata": {},
   "outputs": [
    {
     "data": {
      "text/plain": [
       "48.09090909090909"
      ]
     },
     "execution_count": 21,
     "metadata": {},
     "output_type": "execute_result"
    }
   ],
   "source": [
    "mean_of age = 529/11"
   ]
  },
  {
   "cell_type": "code",
   "execution_count": 22,
   "id": "6439c22b",
   "metadata": {},
   "outputs": [
    {
     "data": {
      "text/plain": [
       "48.09090909090909"
      ]
     },
     "execution_count": 22,
     "metadata": {},
     "output_type": "execute_result"
    }
   ],
   "source": [
    "np.mean(age)"
   ]
  },
  {
   "cell_type": "code",
   "execution_count": 24,
   "id": "e08e2ac4",
   "metadata": {},
   "outputs": [
    {
     "data": {
      "text/plain": [
       "40.7"
      ]
     },
     "execution_count": 24,
     "metadata": {},
     "output_type": "execute_result"
    }
   ],
   "source": [
    "data[\"Data Structure\"].mean()"
   ]
  },
  {
   "cell_type": "code",
   "execution_count": 25,
   "id": "f925ed6b",
   "metadata": {},
   "outputs": [
    {
     "data": {
      "text/plain": [
       "23.1"
      ]
     },
     "execution_count": 25,
     "metadata": {},
     "output_type": "execute_result"
    }
   ],
   "source": [
    "data[\"Mathematics\"].mean()"
   ]
  },
  {
   "cell_type": "code",
   "execution_count": 26,
   "id": "d128973c",
   "metadata": {},
   "outputs": [
    {
     "data": {
      "text/plain": [
       "20.6"
      ]
     },
     "execution_count": 26,
     "metadata": {},
     "output_type": "execute_result"
    }
   ],
   "source": [
    "data[\"Operating System\"].mean()"
   ]
  },
  {
   "cell_type": "markdown",
   "id": "44734f28",
   "metadata": {},
   "source": [
    "# median"
   ]
  },
  {
   "cell_type": "raw",
   "id": "de6f15f2",
   "metadata": {},
   "source": [
    "Median: The middle value of the sorted dataset is called the median.  Consider a dataset comprising ‘n’ elements.\n",
    "Steps  to calculate median:\n",
    "1. The dataset is arranged in either increasing or decreasing order.\n",
    "2. If the data set has an odd number of data values (n=odd), then the middlemost value of the sorted dataset is computed as the median. In other words, the data at (n + 1)/2 place is the median of the dataset.\n",
    "3. If the dataset has an even number of data values (n = even), the average of two middle values is computed as the median. i.e. the mean of (n/2) and {(n/2) + 1}th is the median of the dataset."
   ]
  },
  {
   "cell_type": "code",
   "execution_count": 27,
   "id": "b059cb28",
   "metadata": {},
   "outputs": [],
   "source": [
    "age = [22,23,54,7,7,878,7,664,5,5,35,]"
   ]
  },
  {
   "cell_type": "code",
   "execution_count": 28,
   "id": "186ce87b",
   "metadata": {},
   "outputs": [
    {
     "data": {
      "text/plain": [
       "22.0"
      ]
     },
     "execution_count": 28,
     "metadata": {},
     "output_type": "execute_result"
    }
   ],
   "source": [
    "np.median(age)"
   ]
  },
  {
   "cell_type": "code",
   "execution_count": 29,
   "id": "f5fb1ed0",
   "metadata": {},
   "outputs": [
    {
     "data": {
      "text/html": [
       "<div>\n",
       "<style scoped>\n",
       "    .dataframe tbody tr th:only-of-type {\n",
       "        vertical-align: middle;\n",
       "    }\n",
       "\n",
       "    .dataframe tbody tr th {\n",
       "        vertical-align: top;\n",
       "    }\n",
       "\n",
       "    .dataframe thead th {\n",
       "        text-align: right;\n",
       "    }\n",
       "</style>\n",
       "<table border=\"1\" class=\"dataframe\">\n",
       "  <thead>\n",
       "    <tr style=\"text-align: right;\">\n",
       "      <th></th>\n",
       "      <th>Roll No.</th>\n",
       "      <th>Name</th>\n",
       "      <th>Gender</th>\n",
       "      <th>Data Structure</th>\n",
       "      <th>Mathematics</th>\n",
       "      <th>Operating System</th>\n",
       "      <th>Average marks</th>\n",
       "      <th>Ranking</th>\n",
       "    </tr>\n",
       "  </thead>\n",
       "  <tbody>\n",
       "    <tr>\n",
       "      <th>0</th>\n",
       "      <td>1</td>\n",
       "      <td>Avneet</td>\n",
       "      <td>F</td>\n",
       "      <td>25</td>\n",
       "      <td>19</td>\n",
       "      <td>17</td>\n",
       "      <td>20.33</td>\n",
       "      <td>Good</td>\n",
       "    </tr>\n",
       "    <tr>\n",
       "      <th>1</th>\n",
       "      <td>2</td>\n",
       "      <td>Jay</td>\n",
       "      <td>M</td>\n",
       "      <td>23</td>\n",
       "      <td>21</td>\n",
       "      <td>14</td>\n",
       "      <td>19.33</td>\n",
       "      <td>Okay</td>\n",
       "    </tr>\n",
       "    <tr>\n",
       "      <th>2</th>\n",
       "      <td>3</td>\n",
       "      <td>Sadaf</td>\n",
       "      <td>F</td>\n",
       "      <td>28</td>\n",
       "      <td>23</td>\n",
       "      <td>21</td>\n",
       "      <td>24.00</td>\n",
       "      <td>Good</td>\n",
       "    </tr>\n",
       "    <tr>\n",
       "      <th>3</th>\n",
       "      <td>4</td>\n",
       "      <td>Prakash</td>\n",
       "      <td>M</td>\n",
       "      <td>21</td>\n",
       "      <td>27</td>\n",
       "      <td>28</td>\n",
       "      <td>25.33</td>\n",
       "      <td>Very Good</td>\n",
       "    </tr>\n",
       "    <tr>\n",
       "      <th>4</th>\n",
       "      <td>5</td>\n",
       "      <td>Sarita</td>\n",
       "      <td>F</td>\n",
       "      <td>23</td>\n",
       "      <td>22</td>\n",
       "      <td>9</td>\n",
       "      <td>18.00</td>\n",
       "      <td>Okay</td>\n",
       "    </tr>\n",
       "    <tr>\n",
       "      <th>5</th>\n",
       "      <td>6</td>\n",
       "      <td>Vasudha</td>\n",
       "      <td>F</td>\n",
       "      <td>190</td>\n",
       "      <td>30</td>\n",
       "      <td>28</td>\n",
       "      <td>82.66</td>\n",
       "      <td>Very Good</td>\n",
       "    </tr>\n",
       "    <tr>\n",
       "      <th>6</th>\n",
       "      <td>7</td>\n",
       "      <td>Ankur</td>\n",
       "      <td>M</td>\n",
       "      <td>24</td>\n",
       "      <td>24</td>\n",
       "      <td>22</td>\n",
       "      <td>23.33</td>\n",
       "      <td>Good</td>\n",
       "    </tr>\n",
       "    <tr>\n",
       "      <th>7</th>\n",
       "      <td>8</td>\n",
       "      <td>Laksh</td>\n",
       "      <td>M</td>\n",
       "      <td>26</td>\n",
       "      <td>25</td>\n",
       "      <td>27</td>\n",
       "      <td>26.00</td>\n",
       "      <td>Very Good</td>\n",
       "    </tr>\n",
       "    <tr>\n",
       "      <th>8</th>\n",
       "      <td>9</td>\n",
       "      <td>Aman</td>\n",
       "      <td>M</td>\n",
       "      <td>23</td>\n",
       "      <td>18</td>\n",
       "      <td>25</td>\n",
       "      <td>22.00</td>\n",
       "      <td>Good</td>\n",
       "    </tr>\n",
       "    <tr>\n",
       "      <th>9</th>\n",
       "      <td>10</td>\n",
       "      <td>Rajat</td>\n",
       "      <td>M</td>\n",
       "      <td>24</td>\n",
       "      <td>22</td>\n",
       "      <td>15</td>\n",
       "      <td>20.33</td>\n",
       "      <td>Good</td>\n",
       "    </tr>\n",
       "  </tbody>\n",
       "</table>\n",
       "</div>"
      ],
      "text/plain": [
       "   Roll No.     Name Gender  Data Structure  Mathematics  Operating System  \\\n",
       "0         1  Avneet       F              25           19                17   \n",
       "1         2      Jay      M              23           21                14   \n",
       "2         3   Sadaf       F              28           23                21   \n",
       "3         4  Prakash      M              21           27                28   \n",
       "4         5   Sarita      F              23           22                 9   \n",
       "5         6  Vasudha      F             190           30                28   \n",
       "6         7    Ankur      M              24           24                22   \n",
       "7         8    Laksh      M              26           25                27   \n",
       "8         9     Aman      M              23           18                25   \n",
       "9        10    Rajat      M              24           22                15   \n",
       "\n",
       "   Average marks    Ranking  \n",
       "0          20.33       Good  \n",
       "1          19.33       Okay  \n",
       "2          24.00       Good  \n",
       "3          25.33  Very Good  \n",
       "4          18.00       Okay  \n",
       "5          82.66  Very Good  \n",
       "6          23.33       Good  \n",
       "7          26.00  Very Good  \n",
       "8          22.00       Good  \n",
       "9          20.33       Good  "
      ]
     },
     "execution_count": 29,
     "metadata": {},
     "output_type": "execute_result"
    }
   ],
   "source": [
    "data"
   ]
  },
  {
   "cell_type": "code",
   "execution_count": 30,
   "id": "20ea728b",
   "metadata": {},
   "outputs": [
    {
     "data": {
      "text/plain": [
       "24.0"
      ]
     },
     "execution_count": 30,
     "metadata": {},
     "output_type": "execute_result"
    }
   ],
   "source": [
    "data[\"Data Structure\"].median()"
   ]
  },
  {
   "cell_type": "code",
   "execution_count": 33,
   "id": "990182f6",
   "metadata": {},
   "outputs": [
    {
     "data": {
      "text/plain": [
       "22.5"
      ]
     },
     "execution_count": 33,
     "metadata": {},
     "output_type": "execute_result"
    }
   ],
   "source": [
    "data[\"Mathematics\"].median()"
   ]
  },
  {
   "cell_type": "code",
   "execution_count": 34,
   "id": "0988ebb2",
   "metadata": {},
   "outputs": [
    {
     "data": {
      "text/plain": [
       "21.5"
      ]
     },
     "execution_count": 34,
     "metadata": {},
     "output_type": "execute_result"
    }
   ],
   "source": [
    "data[\"Operating System\"].median()"
   ]
  },
  {
   "cell_type": "markdown",
   "id": "494c555b",
   "metadata": {},
   "source": [
    "# Mode"
   ]
  },
  {
   "cell_type": "markdown",
   "id": "5618d37e",
   "metadata": {},
   "source": [
    "Mode: The most frequently occurring value in the dataset is called mode. \n",
    "Steps to calculate mode:\n",
    "1. Use tally marks to identify how many times each data value occurs in the dataset.\n",
    "2. The data value with maximum tally is the mode of the dataset."
   ]
  },
  {
   "cell_type": "markdown",
   "id": "29506e6f",
   "metadata": {},
   "source": [
    "Example 1. Consider the weight (in kg) of 5 children as 36, 40, 32, 42, 30. Let’s compute mean, median, and mode:\n",
    "Solution:\n",
    "Mean = (36 + 40 + 32 + 42 + 30)/5 = 180/5 = 36kg\n",
    "Median: Arrange the data in ascending order: 30, 32, 36, 40, 42 The middle value is 36. So, median = 36kg.\n",
    "Mode: Thus, there are no repeating numbers in a given list, there is no mode existing for that particular list"
   ]
  },
  {
   "cell_type": "code",
   "execution_count": 36,
   "id": "c254170e",
   "metadata": {},
   "outputs": [],
   "source": [
    "age = [2,4,23,34,22,3,2,3,2,3,2,3,4,4,4,4]"
   ]
  },
  {
   "cell_type": "code",
   "execution_count": 41,
   "id": "2dfdc913",
   "metadata": {},
   "outputs": [
    {
     "data": {
      "text/plain": [
       "4"
      ]
     },
     "execution_count": 41,
     "metadata": {},
     "output_type": "execute_result"
    }
   ],
   "source": [
    "statistics.mode(age)"
   ]
  },
  {
   "cell_type": "code",
   "execution_count": 42,
   "id": "7711a2dc",
   "metadata": {},
   "outputs": [
    {
     "data": {
      "text/html": [
       "<div>\n",
       "<style scoped>\n",
       "    .dataframe tbody tr th:only-of-type {\n",
       "        vertical-align: middle;\n",
       "    }\n",
       "\n",
       "    .dataframe tbody tr th {\n",
       "        vertical-align: top;\n",
       "    }\n",
       "\n",
       "    .dataframe thead th {\n",
       "        text-align: right;\n",
       "    }\n",
       "</style>\n",
       "<table border=\"1\" class=\"dataframe\">\n",
       "  <thead>\n",
       "    <tr style=\"text-align: right;\">\n",
       "      <th></th>\n",
       "      <th>Roll No.</th>\n",
       "      <th>Name</th>\n",
       "      <th>Gender</th>\n",
       "      <th>Data Structure</th>\n",
       "      <th>Mathematics</th>\n",
       "      <th>Operating System</th>\n",
       "      <th>Average marks</th>\n",
       "      <th>Ranking</th>\n",
       "    </tr>\n",
       "  </thead>\n",
       "  <tbody>\n",
       "    <tr>\n",
       "      <th>0</th>\n",
       "      <td>1</td>\n",
       "      <td>Avneet</td>\n",
       "      <td>F</td>\n",
       "      <td>25</td>\n",
       "      <td>19</td>\n",
       "      <td>17</td>\n",
       "      <td>20.33</td>\n",
       "      <td>Good</td>\n",
       "    </tr>\n",
       "    <tr>\n",
       "      <th>1</th>\n",
       "      <td>2</td>\n",
       "      <td>Jay</td>\n",
       "      <td>M</td>\n",
       "      <td>23</td>\n",
       "      <td>21</td>\n",
       "      <td>14</td>\n",
       "      <td>19.33</td>\n",
       "      <td>Okay</td>\n",
       "    </tr>\n",
       "    <tr>\n",
       "      <th>2</th>\n",
       "      <td>3</td>\n",
       "      <td>Sadaf</td>\n",
       "      <td>F</td>\n",
       "      <td>28</td>\n",
       "      <td>23</td>\n",
       "      <td>21</td>\n",
       "      <td>24.00</td>\n",
       "      <td>Good</td>\n",
       "    </tr>\n",
       "    <tr>\n",
       "      <th>3</th>\n",
       "      <td>4</td>\n",
       "      <td>Prakash</td>\n",
       "      <td>M</td>\n",
       "      <td>21</td>\n",
       "      <td>27</td>\n",
       "      <td>28</td>\n",
       "      <td>25.33</td>\n",
       "      <td>Very Good</td>\n",
       "    </tr>\n",
       "    <tr>\n",
       "      <th>4</th>\n",
       "      <td>5</td>\n",
       "      <td>Sarita</td>\n",
       "      <td>F</td>\n",
       "      <td>23</td>\n",
       "      <td>22</td>\n",
       "      <td>9</td>\n",
       "      <td>18.00</td>\n",
       "      <td>Okay</td>\n",
       "    </tr>\n",
       "    <tr>\n",
       "      <th>5</th>\n",
       "      <td>6</td>\n",
       "      <td>Vasudha</td>\n",
       "      <td>F</td>\n",
       "      <td>190</td>\n",
       "      <td>30</td>\n",
       "      <td>28</td>\n",
       "      <td>82.66</td>\n",
       "      <td>Very Good</td>\n",
       "    </tr>\n",
       "    <tr>\n",
       "      <th>6</th>\n",
       "      <td>7</td>\n",
       "      <td>Ankur</td>\n",
       "      <td>M</td>\n",
       "      <td>24</td>\n",
       "      <td>24</td>\n",
       "      <td>22</td>\n",
       "      <td>23.33</td>\n",
       "      <td>Good</td>\n",
       "    </tr>\n",
       "    <tr>\n",
       "      <th>7</th>\n",
       "      <td>8</td>\n",
       "      <td>Laksh</td>\n",
       "      <td>M</td>\n",
       "      <td>26</td>\n",
       "      <td>25</td>\n",
       "      <td>27</td>\n",
       "      <td>26.00</td>\n",
       "      <td>Very Good</td>\n",
       "    </tr>\n",
       "    <tr>\n",
       "      <th>8</th>\n",
       "      <td>9</td>\n",
       "      <td>Aman</td>\n",
       "      <td>M</td>\n",
       "      <td>23</td>\n",
       "      <td>18</td>\n",
       "      <td>25</td>\n",
       "      <td>22.00</td>\n",
       "      <td>Good</td>\n",
       "    </tr>\n",
       "    <tr>\n",
       "      <th>9</th>\n",
       "      <td>10</td>\n",
       "      <td>Rajat</td>\n",
       "      <td>M</td>\n",
       "      <td>24</td>\n",
       "      <td>22</td>\n",
       "      <td>15</td>\n",
       "      <td>20.33</td>\n",
       "      <td>Good</td>\n",
       "    </tr>\n",
       "  </tbody>\n",
       "</table>\n",
       "</div>"
      ],
      "text/plain": [
       "   Roll No.     Name Gender  Data Structure  Mathematics  Operating System  \\\n",
       "0         1  Avneet       F              25           19                17   \n",
       "1         2      Jay      M              23           21                14   \n",
       "2         3   Sadaf       F              28           23                21   \n",
       "3         4  Prakash      M              21           27                28   \n",
       "4         5   Sarita      F              23           22                 9   \n",
       "5         6  Vasudha      F             190           30                28   \n",
       "6         7    Ankur      M              24           24                22   \n",
       "7         8    Laksh      M              26           25                27   \n",
       "8         9     Aman      M              23           18                25   \n",
       "9        10    Rajat      M              24           22                15   \n",
       "\n",
       "   Average marks    Ranking  \n",
       "0          20.33       Good  \n",
       "1          19.33       Okay  \n",
       "2          24.00       Good  \n",
       "3          25.33  Very Good  \n",
       "4          18.00       Okay  \n",
       "5          82.66  Very Good  \n",
       "6          23.33       Good  \n",
       "7          26.00  Very Good  \n",
       "8          22.00       Good  \n",
       "9          20.33       Good  "
      ]
     },
     "execution_count": 42,
     "metadata": {},
     "output_type": "execute_result"
    }
   ],
   "source": [
    "data"
   ]
  },
  {
   "cell_type": "code",
   "execution_count": 43,
   "id": "c3a2d048",
   "metadata": {},
   "outputs": [
    {
     "data": {
      "text/plain": [
       "0    M\n",
       "Name: Gender, dtype: object"
      ]
     },
     "execution_count": 43,
     "metadata": {},
     "output_type": "execute_result"
    }
   ],
   "source": [
    "data[\"Gender\"].mode()"
   ]
  },
  {
   "cell_type": "code",
   "execution_count": 44,
   "id": "ffe645f2",
   "metadata": {},
   "outputs": [
    {
     "data": {
      "text/plain": [
       "0    23\n",
       "Name: Data Structure, dtype: int64"
      ]
     },
     "execution_count": 44,
     "metadata": {},
     "output_type": "execute_result"
    }
   ],
   "source": [
    "data[\"Data Structure\"].mode()"
   ]
  },
  {
   "cell_type": "code",
   "execution_count": 45,
   "id": "c2cc4b72",
   "metadata": {},
   "outputs": [
    {
     "data": {
      "text/plain": [
       "0    Good\n",
       "Name: Ranking, dtype: object"
      ]
     },
     "execution_count": 45,
     "metadata": {},
     "output_type": "execute_result"
    }
   ],
   "source": [
    "data[\"Ranking\"].mode()"
   ]
  },
  {
   "cell_type": "code",
   "execution_count": null,
   "id": "1fffd6f9",
   "metadata": {},
   "outputs": [],
   "source": []
  }
 ],
 "metadata": {
  "kernelspec": {
   "display_name": "Python 3 (ipykernel)",
   "language": "python",
   "name": "python3"
  },
  "language_info": {
   "codemirror_mode": {
    "name": "ipython",
    "version": 3
   },
   "file_extension": ".py",
   "mimetype": "text/x-python",
   "name": "python",
   "nbconvert_exporter": "python",
   "pygments_lexer": "ipython3",
   "version": "3.11.5"
  }
 },
 "nbformat": 4,
 "nbformat_minor": 5
}
